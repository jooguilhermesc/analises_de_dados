{
 "cells": [
  {
   "cell_type": "code",
   "execution_count": 251,
   "metadata": {},
   "outputs": [],
   "source": [
    "import pandas as pd\n",
    "import numpy as np"
   ]
  },
  {
   "cell_type": "code",
   "execution_count": 252,
   "metadata": {},
   "outputs": [],
   "source": [
    "df_votacoes = pd.read_csv('votacoes_atl.csv', sep=',', encoding='utf-8')\n",
    "df_votacoes = df_votacoes.query('siglaOrgao == \"PLEN\"', engine='python')"
   ]
  },
  {
   "cell_type": "code",
   "execution_count": 253,
   "metadata": {},
   "outputs": [
    {
     "data": {
      "text/plain": [
       "'Aprovada a Redação Final assinada pelo Relator, Dep. Márcio Labre (PL-RJ).'"
      ]
     },
     "execution_count": 253,
     "metadata": {},
     "output_type": "execute_result"
    }
   ],
   "source": [
    "df_votacoes['descricao'].iloc[0]"
   ]
  },
  {
   "cell_type": "code",
   "execution_count": 254,
   "metadata": {},
   "outputs": [],
   "source": [
    "temp_df = []\n",
    "for i in range(len(df_votacoes)):\n",
    "    if 'Aprovad' in df_votacoes['descricao'].iloc[i]:\n",
    "        temp_df.append({'descricao': df_votacoes['descricao'].iloc[i],'id':df_votacoes['id'].iloc[i]})\n",
    "        #print(df_votacoes['descricao'].iloc[i])\n",
    "        \n",
    "df = pd.DataFrame(temp_df)"
   ]
  },
  {
   "cell_type": "code",
   "execution_count": 255,
   "metadata": {},
   "outputs": [],
   "source": [
    "temp_df = []\n",
    "for descricao in df['descricao']:\n",
    "    if 'Redação Final' in descricao:\n",
    "        temp_df.append('Redação Final')\n",
    "    elif 'Emenda' in descricao:\n",
    "        temp_df.append('Emenda')\n",
    "    elif ('Requerimento' in descricao) or ('requerimento' in descricao) :\n",
    "        temp_df.append('Requerimento')\n",
    "    elif 'Medida Provisória' in descricao:\n",
    "        temp_df.append('Medida Provisória')\n",
    "    elif ('Submenda Substitutiva' in descricao) or  ('Subemenda Substitutiva' in descricao) or ('Subemenda Substitutiva' in descricao):\n",
    "        temp_df.append('Subemenda Substitutiva')\n",
    "    elif 'Projeto de Decreto Legislativo' in descricao:\n",
    "        temp_df.append('Projeto de Decreto Legislativo')\n",
    "    elif 'Projeto de Lei' in descricao:\n",
    "        temp_df.append('Projeto de Lei')\n",
    "    elif 'Parecer da Comissão Mista' in descricao:\n",
    "        temp_df.append('Parecer da Comissão Mista')\n",
    "    else:\n",
    "        temp_df.append('Outros')\n",
    "\n",
    "df['objeto'] = temp_df\n",
    "        "
   ]
  },
  {
   "cell_type": "code",
   "execution_count": 256,
   "metadata": {},
   "outputs": [],
   "source": [
    "df['descricao'] = df['descricao'].apply(lambda x: x.lstrip('Aprovado '))\n",
    "df['descricao'] = df['descricao'].apply(lambda x: x.lstrip('Aprovada '))\n",
    "df['descricao'] = df['descricao'].apply(lambda x: x.lstrip('Aprovadas as '))\n",
    "df['descricao'] = df['descricao'].apply(lambda x: x.lstrip(' em apreciação preliminar, o '))\n",
    "df['descricao'] = df['descricao'].apply(lambda x: x.lstrip('unanimidade, o '))\n",
    "df['descricao'] = df['descricao'].apply(lambda x: x.lstrip('turno, a '))\n",
    "df['descricao'] = df['descricao'].apply(lambda x: x.lstrip('segundo turno, a '))\n",
    "df['descricao'] = df['descricao'].apply(lambda x: x.split('. Sim:')[0])\n",
    "df = df.rename(columns={'descricao':'descricao_tratada'})"
   ]
  },
  {
   "cell_type": "code",
   "execution_count": 257,
   "metadata": {},
   "outputs": [],
   "source": [
    "df = pd.merge(df_votacoes,df,how='inner', on='id') #.to_csv('testes.csv', sep=',', encoding='utf-8')"
   ]
  },
  {
   "cell_type": "code",
   "execution_count": 258,
   "metadata": {},
   "outputs": [],
   "source": [
    "df = df[['id','data','siglaOrgao','descricao_tratada','objeto']]\n",
    "df = df.rename(columns={'id':'idVoto'})"
   ]
  },
  {
   "cell_type": "code",
   "execution_count": 259,
   "metadata": {},
   "outputs": [],
   "source": [
    "df_votos = pd.read_csv('votos.csv', sep=',', encoding='utf-8')"
   ]
  },
  {
   "cell_type": "code",
   "execution_count": 260,
   "metadata": {},
   "outputs": [],
   "source": [
    "df_test = pd.merge(df_votos,df)"
   ]
  },
  {
   "cell_type": "code",
   "execution_count": 276,
   "metadata": {},
   "outputs": [
    {
     "data": {
      "text/plain": [
       "6"
      ]
     },
     "execution_count": 276,
     "metadata": {},
     "output_type": "execute_result"
    }
   ],
   "source": [
    "df_analy = df_test.query('siglaUf == \"AL\"', engine='python')\n",
    "tempdf = df_analy[['idVoto','id']].groupby('idVoto').count()\n",
    "round(tempdf['id'].mean())"
   ]
  }
 ],
 "metadata": {
  "interpreter": {
   "hash": "6d3806b68f94bbf98d827ea89e22a23a282e28a4972217a826c02094b84e4cfc"
  },
  "kernelspec": {
   "display_name": "Python 3.8.8 ('base')",
   "language": "python",
   "name": "python3"
  },
  "language_info": {
   "codemirror_mode": {
    "name": "ipython",
    "version": 3
   },
   "file_extension": ".py",
   "mimetype": "text/x-python",
   "name": "python",
   "nbconvert_exporter": "python",
   "pygments_lexer": "ipython3",
   "version": "3.8.8"
  },
  "orig_nbformat": 4
 },
 "nbformat": 4,
 "nbformat_minor": 2
}

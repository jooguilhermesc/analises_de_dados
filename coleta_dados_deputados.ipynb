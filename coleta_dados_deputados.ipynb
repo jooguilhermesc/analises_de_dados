{
 "cells": [
  {
   "cell_type": "code",
   "execution_count": 5,
   "metadata": {},
   "outputs": [],
   "source": [
    "from datetime import date\n",
    "import pandas as pd\n",
    "import numpy as np\n",
    "import requests\n",
    "\n",
    "today = date.today().strftime(\"%Y-%m-%d\")"
   ]
  },
  {
   "cell_type": "code",
   "execution_count": null,
   "metadata": {},
   "outputs": [],
   "source": [
    "url = f'https://dadosabertos.camara.leg.br/api/v2/deputados?siglaUf=AL&dataInicio=2019-01-31&dataFim={today}&ordem=ASC&ordenarPor=nome'\n",
    "response = requests.get(url)\n",
    "data = response.json()\n",
    "dados = data['dados']\n",
    "df_dep_init = pd.DataFrame(dados)\n",
    "df_dep_init = df_dep_init[['id', 'nome', 'siglaPartido', 'siglaUf']]\n",
    "df_dep_init['nome'] = df_dep_init['nome'].apply(lambda x: x.upper())\n",
    "df_dep_init = df_dep_init.drop_duplicates(subset=['nome'])"
   ]
  },
  {
   "cell_type": "code",
   "execution_count": 83,
   "metadata": {},
   "outputs": [],
   "source": [
    "temp_df = []\n",
    "\n",
    "for dep in df_dep_init[\"id\"]:\n",
    "    response = requests.get(f'https://dadosabertos.camara.leg.br/api/v2/deputados/{dep}')\n",
    "    data = response.json()\n",
    "    data = data['dados'][\"ultimoStatus\"]\n",
    "    temp_df.append(data)\n",
    "\n",
    "df_dep = pd.DataFrame(temp_df)\n",
    "df_dep = df_dep[[\"id\",\"nome\",\"siglaPartido\",\"siglaUf\",\"email\",\"situacao\",\"condicaoEleitoral\"]]\n",
    "    "
   ]
  },
  {
   "cell_type": "code",
   "execution_count": null,
   "metadata": {},
   "outputs": [],
   "source": [
    "temp_df = []\n",
    "k = 1\n",
    "for id_dep in df_dep[\"id\"]:\n",
    "    while True:\n",
    "        url = f'https://dadosabertos.camara.leg.br/api/v2/deputados/{id_dep}/despesas?ano=2022&ano=2021&ano=2020&ano=2019&mes=12&mes=11&mes=10&mes=9&mes=8&mes=7&mes=6&mes=5&mes=4&mes=3&mes=2&mes=1&pagina={k}&itens=100&ordem=ASC&ordenarPor=ano'\n",
    "        print(url)\n",
    "        response = requests.get(url)\n",
    "        data = response.json()\n",
    "        data = data['dados']\n",
    "        if len(data) == 0:\n",
    "            break\n",
    "        \n",
    "        for i in range(len(data)):\n",
    "            a = data[i]\n",
    "            a['id'] = id_dep\n",
    "            temp_df.append(a)\n",
    "        \n",
    "        k += 1\n",
    "\n",
    "df_contas = pd.DataFrame(temp_df)"
   ]
  },
  {
   "cell_type": "code",
   "execution_count": 56,
   "metadata": {},
   "outputs": [],
   "source": [
    "temp_df = []\n",
    "k = 1\n",
    "for index, id_dep in enumerate(df_dep[\"id\"]):\n",
    "    while True:\n",
    "        url = f'https://dadosabertos.camara.leg.br/api/v2/deputados/{id_dep}/discursos?dataInicio=2019-01-31&dataFim={today}&ordenarPor=dataHoraInicio&ordem=ASC&itens=100&pagina={k}'\n",
    "        response = requests.get(url)\n",
    "        data = response.json()\n",
    "        data = data['dados']\n",
    "        \n",
    "        if len(data) == 0:\n",
    "            break\n",
    "        \n",
    "        for i in range(len(data)):\n",
    "            a = data[i]\n",
    "            a['id'] = id_dep\n",
    "            temp_df.append(a)\n",
    "        \n",
    "        k += 1\n",
    "\n",
    "df_discursos = pd.DataFrame(temp_df)\n",
    "df_discursos = pd.concat([df_discursos.drop(['faseEvento'],axis=1),df_discursos['faseEvento'].apply(pd.Series)], axis=1)"
   ]
  },
  {
   "cell_type": "code",
   "execution_count": 24,
   "metadata": {},
   "outputs": [],
   "source": [
    "temp_df = []\n",
    "k = 1\n",
    "while True:\n",
    "    url = f'https://dadosabertos.camara.leg.br/api/v2/votacoes?dataInicio=2022-01-01&dataFim={today}&pagina={k}&itens=200&ordem=DESC&ordenarPor=dataHoraRegistro'\n",
    "    response = requests.get(url)\n",
    "    data = response.json()\n",
    "    data = data[\"dados\"]\n",
    "    \n",
    "    if len(data) == 0:\n",
    "        break\n",
    "    \n",
    "    temp_df.append(data)\n",
    "    k += 1\n",
    "\n",
    "df_votacoes = pd.DataFrame(temp_df)\n"
   ]
  },
  {
   "cell_type": "code",
   "execution_count": 100,
   "metadata": {},
   "outputs": [],
   "source": [
    "temp_df = []\n",
    "rows = df_votacoes.shape[0]\n",
    "cols = df_votacoes.shape[1]\n",
    "\n",
    "for i in range(0,rows):\n",
    "    for j in range(0,cols):\n",
    "        data = df_votacoes[j][i]\n",
    "        if data != None:\n",
    "            temp_df.append(data)\n",
    "\n",
    "df_votacoes_atl = pd.DataFrame(temp_df)"
   ]
  },
  {
   "cell_type": "code",
   "execution_count": null,
   "metadata": {},
   "outputs": [],
   "source": [
    "temp_df = []\n",
    "\n",
    "for id in df_votacoes_atl[\"id\"]:\n",
    "    response = requests.get(f'https://dadosabertos.camara.leg.br/api/v2/votacoes/{id}/votos')\n",
    "    data = response.json()\n",
    "    data = data['dados']\n",
    "    if len(data) > 0:\n",
    "        for i in range(len(data)):\n",
    "            a = data[i]\n",
    "            a['idVoto'] = id\n",
    "            temp_df.append(a)\n",
    "\n",
    "df_votos = pd.DataFrame(temp_df)\n",
    "df_votos = pd.concat([df_votos.drop(['deputado_'],axis=1),df_votos['deputado_'].apply(pd.Series)], axis=1)"
   ]
  },
  {
   "cell_type": "code",
   "execution_count": 6,
   "metadata": {},
   "outputs": [],
   "source": [
    "#df_dep_init.to_csv('deputados_al.csv', index=False, encoding='utf-8')\n",
    "#df_votacoes_atl.to_csv('votacoes_atl.csv', index=False, encoding='utf-8')\n",
    "#df_votos.to_csv('votos.csv', index=False, encoding='utf-8')\n",
    "#df_contas.to_csv('contas.csv', index=False, sep=',', decimal='.', encoding='utf-8')\n",
    "#df_discursos.to_csv('discursos.csv', index=False, sep=',', decimal='.', encoding='utf-8')"
   ]
  }
 ],
 "metadata": {
  "interpreter": {
   "hash": "6d3806b68f94bbf98d827ea89e22a23a282e28a4972217a826c02094b84e4cfc"
  },
  "kernelspec": {
   "display_name": "Python 3.8.8 ('base')",
   "language": "python",
   "name": "python3"
  },
  "language_info": {
   "codemirror_mode": {
    "name": "ipython",
    "version": 3
   },
   "file_extension": ".py",
   "mimetype": "text/x-python",
   "name": "python",
   "nbconvert_exporter": "python",
   "pygments_lexer": "ipython3",
   "version": "3.8.8"
  },
  "orig_nbformat": 4
 },
 "nbformat": 4,
 "nbformat_minor": 2
}

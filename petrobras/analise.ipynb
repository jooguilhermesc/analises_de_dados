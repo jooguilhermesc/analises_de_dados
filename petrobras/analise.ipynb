{
 "cells": [
  {
   "cell_type": "code",
   "execution_count": 187,
   "metadata": {},
   "outputs": [],
   "source": [
    "from datetime import datetime\n",
    "import matplotlib.pyplot as plt\n",
    "import pandas as pd\n",
    "import numpy as np\n",
    "import re"
   ]
  },
  {
   "cell_type": "code",
   "execution_count": 188,
   "metadata": {},
   "outputs": [
    {
     "data": {
      "text/plain": [
       "datetime.datetime(2021, 12, 12, 0, 0)"
      ]
     },
     "execution_count": 188,
     "metadata": {},
     "output_type": "execute_result"
    }
   ],
   "source": [
    "data = '12/12/2021'\n",
    "    \n",
    "def try_format_date(x):\n",
    "    data_pattern = re.compile(\"\\d{2}/\\d{2}/\\d{4}\")\n",
    "    if re.match(data_pattern,str(x)):\n",
    "        data_formated = datetime.strptime(x,\"%d/%m/%Y\")\n",
    "        return data_formated\n",
    "    else:\n",
    "        return x\n",
    "\n",
    "try_format_date(data)"
   ]
  },
  {
   "cell_type": "code",
   "execution_count": 189,
   "metadata": {},
   "outputs": [],
   "source": [
    "df_capital_social = pd.read_excel('historico_composicao_social.xls')\n",
    "df_capital_social = df_capital_social.drop(columns='%')\n",
    "\n",
    "for i in range(1,64):\n",
    "    df_capital_social = df_capital_social.drop(columns=f'%.{i}')"
   ]
  },
  {
   "cell_type": "code",
   "execution_count": 190,
   "metadata": {},
   "outputs": [],
   "source": [
    "ações_ordinarias = df_capital_social[0:11]\n",
    "ações_preferenciais = df_capital_social[11:21]\n",
    "capital_social = df_capital_social[21:31]"
   ]
  },
  {
   "cell_type": "code",
   "execution_count": 191,
   "metadata": {},
   "outputs": [],
   "source": [
    "ações_ordinarias = ações_ordinarias.transpose()\n",
    "ações_ordinarias.columns = ações_ordinarias.iloc[0]\n",
    "ações_ordinarias = ações_ordinarias[1:]\n",
    "ações_ordinarias['dt_divulgacao'] = ações_ordinarias.index\n",
    "ações_ordinarias = ações_ordinarias.melt(id_vars=['dt_divulgacao'])\n",
    "ações_ordinarias = ações_ordinarias.rename(columns={'Capital Social ':'dsc_quadrao_acionario','value':'vl_participacao'})\n",
    "ações_ordinarias['descricao'] = 'Ações Ordinárias'\n",
    "ações_ordinarias['dt_divulgacao'] = ações_ordinarias['dt_divulgacao'].apply(lambda x: try_format_date(x))\n",
    "ações_ordinarias = ações_ordinarias.query(\"dt_divulgacao != 'Unnamed: 46'\", engine='python')\n",
    "ações_ordinarias['dt_divulgacao'] = ações_ordinarias['dt_divulgacao'].apply(lambda x: datetime.strptime(str(x),\"%Y-%m-%d %H:%M:%S\").date())\n",
    "ações_ordinarias['vl_participacao'] = ações_ordinarias['vl_participacao'].apply(lambda x: str(x).rstrip('.0').rstrip(',').replace('.',''))\n",
    "ações_ordinarias.loc[ações_ordinarias['vl_participacao'] == ''] = 0\n",
    "ações_ordinarias['vl_participacao'] = ações_ordinarias['vl_participacao'].apply(lambda x: float(x))\n"
   ]
  },
  {
   "cell_type": "code",
   "execution_count": 192,
   "metadata": {},
   "outputs": [],
   "source": [
    "ações_preferenciais = ações_preferenciais.transpose()\n",
    "ações_preferenciais.columns = ações_preferenciais.iloc[0]\n",
    "ações_preferenciais = ações_preferenciais[1:]\n",
    "ações_preferenciais['dt_divulgacao'] = ações_preferenciais.index\n",
    "ações_preferenciais = ações_preferenciais.melt(id_vars=['dt_divulgacao'])\n",
    "ações_preferenciais = ações_preferenciais.rename(columns={'Capital Social ':'dsc_quadrao_acionario','value':'vl_participacao'})\n",
    "ações_preferenciais['descricao'] = 'Ações Preferenciais'\n",
    "ações_preferenciais['dt_divulgacao'] = ações_preferenciais['dt_divulgacao'].apply(lambda x: try_format_date(x))\n",
    "ações_preferenciais = ações_preferenciais.query(\"dt_divulgacao != 'Unnamed: 46'\", engine='python')\n",
    "ações_preferenciais['dt_divulgacao'] = ações_preferenciais['dt_divulgacao'].apply(lambda x: datetime.strptime(str(x),\"%Y-%m-%d %H:%M:%S\").date())\n",
    "ações_preferenciais['vl_participacao'] = ações_preferenciais['vl_participacao'].apply(lambda x: str(x).rstrip('.0').rstrip(',').replace('.',''))\n",
    "ações_preferenciais.loc[ações_preferenciais['vl_participacao'] == ''] = 0\n",
    "ações_preferenciais['vl_participacao'] = ações_preferenciais['vl_participacao'].apply(lambda x: float(x))"
   ]
  },
  {
   "cell_type": "code",
   "execution_count": 193,
   "metadata": {},
   "outputs": [],
   "source": [
    "capital_social = capital_social.transpose()\n",
    "capital_social.columns = capital_social.iloc[0]\n",
    "capital_social = capital_social[1:]\n",
    "capital_social['dt_divulgacao'] = capital_social.index\n",
    "capital_social = capital_social.melt(id_vars=['dt_divulgacao'])\n",
    "capital_social = capital_social.rename(columns={'Capital Social ':'dsc_quadrao_acionario','value':'vl_participacao'})\n",
    "capital_social['descricao'] = 'Capital Social'\n",
    "capital_social['dt_divulgacao'] = capital_social['dt_divulgacao'].apply(lambda x: try_format_date(x))\n",
    "capital_social = capital_social.query(\"dt_divulgacao != 'Unnamed: 46'\", engine='python')\n",
    "capital_social['dt_divulgacao'] = capital_social['dt_divulgacao'].apply(lambda x: datetime.strptime(str(x),\"%Y-%m-%d %H:%M:%S\").date())\n",
    "capital_social['vl_participacao'] = capital_social['vl_participacao'].apply(lambda x: str(x).rstrip('.0').rstrip(',').replace('.',''))\n",
    "capital_social.loc[capital_social['vl_participacao'] == ''] = 0\n",
    "capital_social['vl_participacao'] = capital_social['vl_participacao'].apply(lambda x: float(x))"
   ]
  },
  {
   "cell_type": "code",
   "execution_count": 195,
   "metadata": {},
   "outputs": [],
   "source": [
    "df = pd.concat([ações_ordinarias,ações_preferenciais,capital_social])\n",
    "df = df.query(\"dt_divulgacao != 0\", engine='python')\n",
    "df.to_csv('historico_composicao.csv',encoding='utf-8')"
   ]
  }
 ],
 "metadata": {
  "kernelspec": {
   "display_name": "Python 3.8.8 ('base')",
   "language": "python",
   "name": "python3"
  },
  "language_info": {
   "codemirror_mode": {
    "name": "ipython",
    "version": 3
   },
   "file_extension": ".py",
   "mimetype": "text/x-python",
   "name": "python",
   "nbconvert_exporter": "python",
   "pygments_lexer": "ipython3",
   "version": "3.8.8"
  },
  "orig_nbformat": 4,
  "vscode": {
   "interpreter": {
    "hash": "6d3806b68f94bbf98d827ea89e22a23a282e28a4972217a826c02094b84e4cfc"
   }
  }
 },
 "nbformat": 4,
 "nbformat_minor": 2
}

{
 "cells": [
  {
   "cell_type": "code",
   "execution_count": 2,
   "metadata": {},
   "outputs": [],
   "source": [
    "import requests\n",
    "import pandas as pd\n",
    "import numpy as np"
   ]
  },
  {
   "cell_type": "code",
   "execution_count": 3,
   "metadata": {},
   "outputs": [],
   "source": [
    "headers = {\n",
    "    'accept': 'application/json',\n",
    "}\n",
    "\n",
    "params = {\n",
    "    'siglaUf': 'AL',\n",
    "    'dataInicio': '2019-01-31',\n",
    "    'dataFim': '2023-01-31',\n",
    "    'ordem': 'ASC',\n",
    "    'ordenarPor': 'nome',\n",
    "}\n",
    "\n",
    "response = requests.get('https://dadosabertos.camara.leg.br/api/v2/deputados', params=params, headers=headers)"
   ]
  },
  {
   "cell_type": "code",
   "execution_count": null,
   "metadata": {},
   "outputs": [],
   "source": [
    "dados = response.json()\n",
    "dados = dados['dados']\n",
    "df_dep = pd.DataFrame(dados)\n",
    "df_dep = df_dep[['id', 'nome', 'siglaPartido', 'siglaUf']]\n",
    "df_dep['nome'] = df_dep['nome'].apply(lambda x: x.upper())\n",
    "df_dep = df_dep.drop_duplicates(subset=['nome'])"
   ]
  },
  {
   "cell_type": "code",
   "execution_count": 5,
   "metadata": {},
   "outputs": [],
   "source": [
    "temp_df = []\n",
    "\n",
    "for dep in df_dep[\"id\"]:\n",
    "    response = requests.get(f'https://dadosabertos.camara.leg.br/api/v2/deputados/{dep}')\n",
    "    data = response.json()\n",
    "    data = data['dados'][\"ultimoStatus\"]\n",
    "    temp_df.append(data)\n",
    "\n",
    "df_dep_rich = pd.DataFrame(temp_df)\n",
    "df_dep_rich = df_dep_rich[[\"id\",\"nome\",\"siglaPartido\",\"siglaUf\",\"email\",\"situacao\",\"condicaoEleitoral\"]]\n",
    "df_dep_rich\n",
    "    "
   ]
  },
  {
   "cell_type": "code",
   "execution_count": 6,
   "metadata": {},
   "outputs": [],
   "source": [
    "temp_df = []\n",
    "k = 1\n",
    "for index, id_dep in enumerate(df_dep_rich[\"id\"]):\n",
    "    while True:\n",
    "        url = f'https://dadosabertos.camara.leg.br/api/v2/deputados/{id_dep}/despesas?ano=2022&ano=2021&ano=2020&ano=2019&mes=12&mes=11&mes=10&mes=9&mes=8&mes=7&mes=6&mes=5&mes=4&mes=3&mes=2&mes=1&pagina={k}&itens=100&ordem=ASC&ordenarPor=ano'\n",
    "        response = requests.get(url)\n",
    "        data = response.json()\n",
    "        data = data['dados']\n",
    "        \n",
    "        if len(data) == 0:\n",
    "            break\n",
    "        \n",
    "        for i in range(len(data)):\n",
    "            a = data[i]\n",
    "            a['id'] = id_dep\n",
    "            temp_df.append(a)\n",
    "        \n",
    "        k += 1\n",
    "\n",
    "df_contas = pd.DataFrame(temp_df)\n"
   ]
  },
  {
   "cell_type": "code",
   "execution_count": 9,
   "metadata": {},
   "outputs": [],
   "source": [
    "temp_df = []\n",
    "k = 1\n",
    "for index, id_dep in enumerate(df_dep_rich[\"id\"]):\n",
    "    while True:\n",
    "        url = f'https://dadosabertos.camara.leg.br/api/v2/deputados/{id_dep}/discursos?dataInicio=2019-01-31&dataFim=2022-06-05&ordenarPor=dataHoraInicio&ordem=ASC&itens=100&pagina={k}'\n",
    "        response = requests.get(url)\n",
    "        data = response.json()\n",
    "        data = data['dados']\n",
    "        \n",
    "        if len(data) == 0:\n",
    "            break\n",
    "        \n",
    "        for i in range(len(data)):\n",
    "            a = data[i]\n",
    "            a['id'] = id_dep\n",
    "            temp_df.append(a)\n",
    "        \n",
    "        k += 1\n",
    "\n",
    "df_discursos = pd.DataFrame(temp_df)"
   ]
  },
  {
   "cell_type": "code",
   "execution_count": null,
   "metadata": {},
   "outputs": [],
   "source": [
    "df_discursos.groupby(['tipoDiscurso']).count()"
   ]
  },
  {
   "cell_type": "code",
   "execution_count": 8,
   "metadata": {},
   "outputs": [],
   "source": [
    "df_contas.to_csv('contas.csv', index=False, sep=',', decimal='.', encoding='utf-8')"
   ]
  }
 ],
 "metadata": {
  "interpreter": {
   "hash": "6d3806b68f94bbf98d827ea89e22a23a282e28a4972217a826c02094b84e4cfc"
  },
  "kernelspec": {
   "display_name": "Python 3.8.8 ('base')",
   "language": "python",
   "name": "python3"
  },
  "language_info": {
   "codemirror_mode": {
    "name": "ipython",
    "version": 3
   },
   "file_extension": ".py",
   "mimetype": "text/x-python",
   "name": "python",
   "nbconvert_exporter": "python",
   "pygments_lexer": "ipython3",
   "version": "3.8.8"
  },
  "orig_nbformat": 4
 },
 "nbformat": 4,
 "nbformat_minor": 2
}

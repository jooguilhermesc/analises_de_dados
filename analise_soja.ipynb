{
 "cells": [
  {
   "cell_type": "code",
   "execution_count": 1,
   "metadata": {},
   "outputs": [],
   "source": [
    "import pandas as pd\n",
    "import numpy as np"
   ]
  },
  {
   "cell_type": "code",
   "execution_count": null,
   "metadata": {},
   "outputs": [],
   "source": [
    "url = 'http://www.aprosoja.com.br/soja-e-milho/historico-cotacao/preco-da-soja-disponivel' #'https://www.agrolink.com.br/cotacoes/graos/soja/'\n",
    "dados_soja = pd.read_html(url)\n",
    "df_soja = dados_soja[0]\n",
    "df_soja = df_soja.rename(columns={'Munícipio':'dsc_municipio', 'Compra':'vl_compra'})\n",
    "df_soja = df_soja[['dsc_municipio','vl_compra']][0:-1]\n",
    "df_soja['vl_compra'] = df_soja['vl_compra'].astype(np.float64)\n",
    "df_soja['vl_compra'] = df_soja.vl_compra.apply(lambda x: x/100)\n",
    "df_soja.info()"
   ]
  },
  {
   "cell_type": "code",
   "execution_count": null,
   "metadata": {},
   "outputs": [],
   "source": [
    "df_soja"
   ]
  }
 ],
 "metadata": {
  "interpreter": {
   "hash": "6d3806b68f94bbf98d827ea89e22a23a282e28a4972217a826c02094b84e4cfc"
  },
  "kernelspec": {
   "display_name": "Python 3.8.8 ('base')",
   "language": "python",
   "name": "python3"
  },
  "language_info": {
   "codemirror_mode": {
    "name": "ipython",
    "version": 3
   },
   "file_extension": ".py",
   "mimetype": "text/x-python",
   "name": "python",
   "nbconvert_exporter": "python",
   "pygments_lexer": "ipython3",
   "version": "3.8.8"
  },
  "orig_nbformat": 4
 },
 "nbformat": 4,
 "nbformat_minor": 2
}

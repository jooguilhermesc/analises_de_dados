{
 "cells": [
  {
   "cell_type": "code",
   "execution_count": 93,
   "metadata": {},
   "outputs": [],
   "source": [
    "import pandas as pd\n",
    "import numpy as np"
   ]
  },
  {
   "cell_type": "code",
   "execution_count": 94,
   "metadata": {},
   "outputs": [],
   "source": [
    "especies_br = pd.read_csv('especies_extincao_flora.csv')\n",
    "especies_br = especies_br.dropna(subset=['Família'])\n",
    "especies_br = especies_br.rename(columns={'Espécie ou Subespécie/Variedade': 'scientificname'})"
   ]
  },
  {
   "cell_type": "code",
   "execution_count": 95,
   "metadata": {},
   "outputs": [],
   "source": [
    "especies_al = pd.read_excel('speciesLink-20220618201400-0028369.xlsx', sheet_name='Sheet1')\n",
    "dfespecies_al = especies_al.drop_duplicates(subset='scientificname')"
   ]
  },
  {
   "cell_type": "code",
   "execution_count": 96,
   "metadata": {},
   "outputs": [],
   "source": [
    "df = pd.merge(dfespecies_al, especies_br, how='left', on='scientificname')\n",
    "df = df.dropna(subset=['Família'])\n",
    "df.to_csv('lista_al.csv')"
   ]
  },
  {
   "cell_type": "code",
   "execution_count": 97,
   "metadata": {},
   "outputs": [
    {
     "name": "stdout",
     "output_type": "stream",
     "text": [
      "A lista de espécies alagoanas ameaçadas de extinção contém 93, das quais 49 estão presentes lá lista divulgada pelo MA que possui 3209 registros, correspondendo a 1.53% da lista de espécies ameaçadas de extinção\n"
     ]
    }
   ],
   "source": [
    "a = len(df)/len(especies_br)\n",
    "print(f'A lista de espécies alagoanas ameaçadas de extinção contém {len(dfespecies_al)}, das quais {len(df)} estão presentes lá lista divulgada pelo MA que possui {len(especies_br)} registros, correspondendo a {a*100:.2f}% da lista de espécies ameaçadas de extinção')"
   ]
  }
 ],
 "metadata": {
  "kernelspec": {
   "display_name": "Python 3.8.8 ('base')",
   "language": "python",
   "name": "python3"
  },
  "language_info": {
   "codemirror_mode": {
    "name": "ipython",
    "version": 3
   },
   "file_extension": ".py",
   "mimetype": "text/x-python",
   "name": "python",
   "nbconvert_exporter": "python",
   "pygments_lexer": "ipython3",
   "version": "3.8.8"
  },
  "orig_nbformat": 4,
  "vscode": {
   "interpreter": {
    "hash": "6d3806b68f94bbf98d827ea89e22a23a282e28a4972217a826c02094b84e4cfc"
   }
  }
 },
 "nbformat": 4,
 "nbformat_minor": 2
}
